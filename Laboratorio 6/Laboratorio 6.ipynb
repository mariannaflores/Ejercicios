{
 "cells": [
  {
   "cell_type": "markdown",
   "metadata": {},
   "source": [
    "# LABORATORIO #6\n",
    "#### MARIANNA FLORES 20180040"
   ]
  },
  {
   "cell_type": "code",
   "execution_count": 1,
   "metadata": {},
   "outputs": [],
   "source": [
    "import numpy as np\n",
    "import pandas as pd\n",
    "import re"
   ]
  },
  {
   "cell_type": "markdown",
   "metadata": {},
   "source": [
    "<br>\n",
    "PREGUNTA 1: Identificar placas particulares Guatemala"
   ]
  },
  {
   "cell_type": "code",
   "execution_count": 2,
   "metadata": {},
   "outputs": [
    {
     "name": "stdout",
     "output_type": "stream",
     "text": [
      "['P221MRQ', 'M056PWS', 'P345ABT', 'P566CPD', 'XC324B']\n"
     ]
    }
   ],
   "source": [
    "placas = ['P221MRQ',\n",
    "         'M056PWS',\n",
    "         'P345ABT',\n",
    "         'P566CPD',\n",
    "         'XC324B']\n",
    "print(placas)"
   ]
  },
  {
   "cell_type": "code",
   "execution_count": 3,
   "metadata": {},
   "outputs": [
    {
     "name": "stdout",
     "output_type": "stream",
     "text": [
      "['P221MRQ', 'P566CPD']\n"
     ]
    }
   ],
   "source": [
    "r = re.compile('[P]+[\\d{3}]+[BCDFGHJKLMNPQRSTVW{3}]')\n",
    "placas_particulares = list(filter(r.match, placas))\n",
    "print(placas_particulares)"
   ]
  },
  {
   "cell_type": "markdown",
   "metadata": {},
   "source": [
    "<br>\n",
    "PREGUNTA 2: validar .jpg y .pdf"
   ]
  },
  {
   "cell_type": "code",
   "execution_count": 4,
   "metadata": {},
   "outputs": [
    {
     "name": "stdout",
     "output_type": "stream",
     "text": [
      "['Ejemplo1.pdf', 'prueba2.PDF', 'holahola', 'respuestas_del_examen.jpg', 'amor.JPG', 'doc.doc']\n"
     ]
    }
   ],
   "source": [
    "tarchivos = ['Ejemplo1.pdf', \n",
    "            'prueba2.PDF',\n",
    "            'holahola',\n",
    "            'respuestas_del_examen.jpg',\n",
    "            'amor.JPG',\n",
    "            'doc.doc']\n",
    "print(tarchivos)"
   ]
  },
  {
   "cell_type": "code",
   "execution_count": 5,
   "metadata": {},
   "outputs": [
    {
     "name": "stdout",
     "output_type": "stream",
     "text": [
      "['Ejemplo1.pdf', 'prueba2.PDF', 'respuestas_del_examen.jpg', 'amor.JPG']\n"
     ]
    }
   ],
   "source": [
    "r = re.compile('[a-zA-Z]+[\\d|\\.|-|_]+\\w+.+[PDF|pdf|JPG|jpg]')\n",
    "urls_result = list(filter(r.match, tarchivos))\n",
    "print(urls_result)"
   ]
  },
  {
   "cell_type": "markdown",
   "metadata": {},
   "source": [
    "<br>\n",
    "PREGUNTA 3: validacion contrasena"
   ]
  },
  {
   "cell_type": "code",
   "execution_count": 6,
   "metadata": {},
   "outputs": [
    {
     "name": "stdout",
     "output_type": "stream",
     "text": [
      "['Seguro869', 'cont123A@BC', 'Nombre12?', '123#h', 'Abcdd!8']\n"
     ]
    }
   ],
   "source": [
    "password = ['Seguro869',\n",
    "           'cont123A@BC',\n",
    "           'Nombre12?',\n",
    "           '123#h','Abcdd!8']\n",
    "print(password)"
   ]
  },
  {
   "cell_type": "code",
   "execution_count": 7,
   "metadata": {},
   "outputs": [
    {
     "name": "stdout",
     "output_type": "stream",
     "text": [
      "['cont123A@BC', 'Nombre12?']\n"
     ]
    }
   ],
   "source": [
    "r = re.compile('^(?=.*[a-z])(?=.*[A-Z])(?=.*\\d)(?=.*[@$!%*#?&])[A-Za-z\\d@$!#%*?&]{8,}$')\n",
    "password_result = list(filter(r.match,password))\n",
    "print(password_result)"
   ]
  },
  {
   "cell_type": "markdown",
   "metadata": {},
   "source": [
    "<br>\n",
    "PREGUNTA 4: validacion carnet"
   ]
  },
  {
   "cell_type": "code",
   "execution_count": 8,
   "metadata": {},
   "outputs": [
    {
     "name": "stdout",
     "output_type": "stream",
     "text": [
      "['30001150', '15002130', '40001325', '103215', '1008999', '00003421']\n"
     ]
    }
   ],
   "source": [
    "carnet = ['30001150',\n",
    "         '15002130',\n",
    "         '40001325',\n",
    "         '103215', '1008999', '00003421']\n",
    "print(carnet)"
   ]
  },
  {
   "cell_type": "code",
   "execution_count": 9,
   "metadata": {},
   "outputs": [
    {
     "name": "stdout",
     "output_type": "stream",
     "text": [
      "['30001150', '15002130']\n"
     ]
    }
   ],
   "source": [
    "r = re.compile('^([1-9]|[12][0-9]|30)00(11[1-8][0-9]|119[0-9]|1[2-9][0-9]{2}|[2-7][0-9]{3}|8[0-8][0-9]{2}|89[0-6][0-9]|8970)$')\n",
    "carnet_result = list(filter(r.search,carnet))\n",
    "print(carnet_result)"
   ]
  },
  {
   "cell_type": "markdown",
   "metadata": {},
   "source": [
    "<br>\n",
    "PREGUNTA 5: filtrar palabras"
   ]
  },
  {
   "cell_type": "code",
   "execution_count": 10,
   "metadata": {},
   "outputs": [
    {
     "name": "stdout",
     "output_type": "stream",
     "text": [
      "['pit', 'spot', 'spate', 'slap two', 'respite', 'pt', 'Pot', 'peat', 'part']\n"
     ]
    }
   ],
   "source": [
    "palabras = ['pit','spot','spate','slap two','respite',\n",
    "           'pt','Pot','peat','part']\n",
    "print(palabras)"
   ]
  },
  {
   "cell_type": "code",
   "execution_count": 11,
   "metadata": {},
   "outputs": [
    {
     "name": "stdout",
     "output_type": "stream",
     "text": [
      "['pit', 'spot', 'spate', 'slap two', 'respite']\n"
     ]
    }
   ],
   "source": [
    "r = re.compile('p.t')\n",
    "palabras_result = list(filter(r.search,palabras))\n",
    "print(palabras_result)"
   ]
  },
  {
   "cell_type": "markdown",
   "metadata": {},
   "source": [
    "<br>\n",
    "PREGUNTA 6: validacion telefonos Guatemala"
   ]
  },
  {
   "cell_type": "code",
   "execution_count": 12,
   "metadata": {},
   "outputs": [
    {
     "name": "stdout",
     "output_type": "stream",
     "text": [
      "['+50254821151', '4210-7640', '52018150', '2434 6854', '11234569', '50211234578', '50242161235', '2345', '50345213698', '+50298765432', '12345678']\n"
     ]
    }
   ],
   "source": [
    "telefonos = ['+50254821151', '4210-7640', \n",
    "             '52018150', '2434 6854', \n",
    "             '11234569', '50211234578',\n",
    "             '50242161235','2345','50345213698','+50298765432','12345678']\n",
    "print(telefonos)"
   ]
  },
  {
   "cell_type": "code",
   "execution_count": 13,
   "metadata": {},
   "outputs": [
    {
     "name": "stdout",
     "output_type": "stream",
     "text": [
      "['+50254821151', '4210-7640', '52018150', '2434 6854', '50242161235']\n"
     ]
    }
   ],
   "source": [
    "r = re.compile('^((\\+)?(502)?)([2456])(\\d{3})([-|\\s]?)(\\d{4})$')\n",
    "telefonos_result = list(filter(r.search,telefonos))\n",
    "print(telefonos_result)"
   ]
  },
  {
   "cell_type": "markdown",
   "metadata": {},
   "source": [
    "<br>\n",
    "PREGUNTA 7: validacion correos UFM"
   ]
  },
  {
   "cell_type": "code",
   "execution_count": 14,
   "metadata": {},
   "outputs": [
    {
     "name": "stdout",
     "output_type": "stream",
     "text": [
      "['mfloresg@ufm.edu', 'm132_25@ufm.edu', 'juan@gmail.com', 'ana@ufm.gt', 'universidad@correo.edu']\n"
     ]
    }
   ],
   "source": [
    "correos = ['mfloresg@ufm.edu',\n",
    "          'm132_25@ufm.edu',\n",
    "          'juan@gmail.com',\n",
    "          'ana@ufm.gt',\n",
    "          'universidad@correo.edu']\n",
    "print(correos)"
   ]
  },
  {
   "cell_type": "code",
   "execution_count": 15,
   "metadata": {},
   "outputs": [
    {
     "name": "stdout",
     "output_type": "stream",
     "text": [
      "['mfloresg@ufm.edu', 'm132_25@ufm.edu']\n"
     ]
    }
   ],
   "source": [
    "r = re.compile('[\\w|-|_]+[@]+[ufm]+.+[edu]')\n",
    "correos_result = list(filter(r.match,correos))\n",
    "print(correos_result)"
   ]
  },
  {
   "cell_type": "markdown",
   "metadata": {},
   "source": [
    "<br>\n",
    "PREGUNTA 8: validacion identificador Eurasia"
   ]
  },
  {
   "cell_type": "code",
   "execution_count": 16,
   "metadata": {},
   "outputs": [
    {
     "name": "stdout",
     "output_type": "stream",
     "text": [
      "['a234687BAGF', '234HFKSL', 'cb75JLF', 'dc51ADNn']\n"
     ]
    }
   ],
   "source": [
    "eurasia = ['a234687BAGF',\n",
    "          '234HFKSL',\n",
    "          'cb75JLF',\n",
    "          'dc51ADNn']\n",
    "print(eurasia)"
   ]
  },
  {
   "cell_type": "code",
   "execution_count": 17,
   "metadata": {},
   "outputs": [
    {
     "name": "stdout",
     "output_type": "stream",
     "text": [
      "['a234687BAGF', '234HFKSL']\n"
     ]
    }
   ],
   "source": [
    "r = re.compile('([a-z]{0,3})+([2-9]{3})+([A-Z]{3,})')\n",
    "correos_eurasia = list(filter(r.match,eurasia))\n",
    "print(correos_eurasia)"
   ]
  }
 ],
 "metadata": {
  "kernelspec": {
   "display_name": "Python 3",
   "language": "python",
   "name": "python3"
  },
  "language_info": {
   "codemirror_mode": {
    "name": "ipython",
    "version": 3
   },
   "file_extension": ".py",
   "mimetype": "text/x-python",
   "name": "python",
   "nbconvert_exporter": "python",
   "pygments_lexer": "ipython3",
   "version": "3.7.7"
  }
 },
 "nbformat": 4,
 "nbformat_minor": 4
}
